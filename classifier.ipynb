{
 "cells": [
  {
   "cell_type": "code",
   "execution_count": 1,
   "metadata": {},
   "outputs": [],
   "source": [
    "import numpy as np\n",
    "import pandas as pd\n",
    "import matplotlib.pyplot as plt\n",
    "import seaborn as sns\n",
    "\n",
    "from matplotlib.figure import Figure\n",
    "from matplotlib.axes._axes import Axes\n",
    "\n",
    "from sklearn import set_config\n",
    "from sklearn.compose import ColumnTransformer\n",
    "from sklearn.pipeline import Pipeline\n",
    "from sklearn.preprocessing import MinMaxScaler, OneHotEncoder\n",
    "from sklearn.decomposition import PCA\n",
    "from sklearn.neighbors import KNeighborsClassifier\n",
    "\n",
    "from sklearn.model_selection import GridSearchCV\n",
    "from sklearn.metrics import classification_report\n",
    "\n",
    "from typing import List, Dict\n",
    "\n",
    "set_config(display=\"diagram\")"
   ]
  },
  {
   "cell_type": "markdown",
   "metadata": {},
   "source": [
    "# 1. Load Data"
   ]
  },
  {
   "cell_type": "code",
   "execution_count": null,
   "metadata": {},
   "outputs": [],
   "source": [
    "colnames: List[str] = [\n",
    "    \"duration\",\"protocol_type\",\"service\",\"flag\",\"src_bytes\",\"dst_bytes\",\"land\",\"wrong_fragment\",\"urgent\",\"hot\",\"num_failed_logins\",\n",
    "    \"logged_in\",\"lnum_compromised\",\"lroot_shell\",\"lsu_attempted\",\"lnum_root\",\"lnum_file_creations\",\"lnum_shells\",\"lnum_access_files\",\n",
    "    \"lnum_outbound_cmds\",\"is_host_login\",\"is_guest_login\",\"count\",\"srv_count\",\"serror_rate\",\"srv_serror_rate\",\"rerror_rate\",\"srv_rerror_rate\",\n",
    "    \"same_srv_rate\",\"diff_srv_rate\",\"srv_diff_host_rate\",\"dst_host_count\",\"dst_host_srv_count\",\"dst_host_same_srv_rate\",\n",
    "    \"dst_host_diff_srv_rate\",\"dst_host_same_src_port_rate\",\"dst_host_srv_diff_host_rate\",\"dst_host_serror_rate\",\"dst_host_srv_serror_rate\",\n",
    "    \"dst_host_rerror_rate\",\"dst_host_srv_rerror_rate\",\"label\", \"difficulty\"\n",
    "]\n",
    "\n",
    "data: pd.DataFrame = pd.read_csv(\"../databases/KDDTrain+.txt\", names=colnames, header=None)"
   ]
  },
  {
   "cell_type": "code",
   "execution_count": null,
   "metadata": {},
   "outputs": [],
   "source": [
    "# check column names, dataset size (n rows and memory), columns dtypes (n columns p/ dtype) and null count\n",
    "data.info()"
   ]
  },
  {
   "cell_type": "code",
   "execution_count": null,
   "metadata": {},
   "outputs": [],
   "source": [
    "data[\"label\"].value_counts()"
   ]
  },
  {
   "cell_type": "code",
   "execution_count": null,
   "metadata": {},
   "outputs": [],
   "source": [
    "# replace all attack types by only one attack label\n",
    "data[\"label\"]: pd.Series = data[\"label\"].apply(lambda x: \"attack\" if x != \"normal\" else \"normal\")"
   ]
  },
  {
   "cell_type": "code",
   "execution_count": null,
   "metadata": {},
   "outputs": [],
   "source": [
    "data[\"label\"].value_counts(normalize=True)"
   ]
  },
  {
   "cell_type": "markdown",
   "metadata": {},
   "source": [
    "# 2. Exploratory Data Analysis"
   ]
  },
  {
   "cell_type": "markdown",
   "metadata": {},
   "source": [
    "## 2.1. Categorical"
   ]
  },
  {
   "cell_type": "code",
   "execution_count": null,
   "metadata": {},
   "outputs": [],
   "source": [
    "# Transport layer protocols (as expected)\n",
    "data[\"protocol_type\"].value_counts()"
   ]
  },
  {
   "cell_type": "code",
   "execution_count": null,
   "metadata": {},
   "outputs": [],
   "source": [
    "def show_bar_plot(labels: np.ndarray, count: np.ndarray) -> None:\n",
    "    y_pos: np.ndarray = np.arange((len(labels)))\n",
    "\n",
    "    # Create bars\n",
    "    plt.bar(y_pos, count)\n",
    "\n",
    "    # Create names on the x-axis\n",
    "    plt.xticks(y_pos, labels)\n",
    "\n",
    "    # Show graphic\n",
    "    plt.show()"
   ]
  },
  {
   "cell_type": "code",
   "execution_count": null,
   "metadata": {},
   "outputs": [],
   "source": [
    "protocols: np.ndarray = data[\"protocol_type\"].value_counts().index.values\n",
    "protocol_frequency: np.ndarray = data[\"protocol_type\"].value_counts().values\n",
    "\n",
    "show_bar_plot(protocols, protocol_frequency)"
   ]
  },
  {
   "cell_type": "code",
   "execution_count": null,
   "metadata": {},
   "outputs": [],
   "source": [
    "data[\"service\"].value_counts()"
   ]
  },
  {
   "cell_type": "code",
   "execution_count": null,
   "metadata": {},
   "outputs": [],
   "source": [
    "data[\"flag\"].value_counts()"
   ]
  },
  {
   "cell_type": "code",
   "execution_count": null,
   "metadata": {},
   "outputs": [],
   "source": [
    "protocols: np.ndarray = data[\"flag\"].value_counts().index.values\n",
    "protocol_frequency: np.ndarray = data[\"flag\"].value_counts().values\n",
    "\n",
    "show_bar_plot(protocols, protocol_frequency)"
   ]
  },
  {
   "cell_type": "markdown",
   "metadata": {},
   "source": [
    "## 2.2. Numerical"
   ]
  },
  {
   "cell_type": "code",
   "execution_count": null,
   "metadata": {},
   "outputs": [],
   "source": [
    "data.describe()"
   ]
  },
  {
   "cell_type": "code",
   "execution_count": null,
   "metadata": {},
   "outputs": [],
   "source": [
    "plt.hist(data[\"dst_host_srv_count\"].values)  # density=False would make counts\n",
    "plt.ylabel(\"Count\")\n",
    "plt.xlabel(\"Bins\")\n",
    "plt.show()"
   ]
  },
  {
   "cell_type": "code",
   "execution_count": null,
   "metadata": {},
   "outputs": [],
   "source": [
    "data[\"dst_host_srv_count\"].plot(kind=\"hist\")"
   ]
  },
  {
   "cell_type": "code",
   "execution_count": null,
   "metadata": {},
   "outputs": [],
   "source": [
    "plt.boxplot(data[\"dst_host_srv_count\"].values)\n",
    "plt.ylabel(\"Count\")\n",
    "plt.xlabel(\"Bins\")\n",
    "plt.show()"
   ]
  },
  {
   "cell_type": "markdown",
   "metadata": {},
   "source": [
    "## 2.3. Multivariate"
   ]
  },
  {
   "cell_type": "code",
   "execution_count": null,
   "metadata": {},
   "outputs": [],
   "source": [
    "def get_count(protocol: str, label: str) -> int:\n",
    "    return len(data[(data[\"protocol_type\"] == protocol) & (data[\"label\"] == label)])\n",
    "\n",
    "protocols: np.ndarray = data[\"protocol_type\"].value_counts().index.values\n",
    "labels: np.ndarray = data[\"label\"].value_counts().index.values\n",
    "\n",
    "normalCount: List[int] = [get_count(protocol, \"normal\") for protocol in protocols]\n",
    "attackCount: List[int] = [get_count(protocol, \"normal\") for protocol in protocols]\n",
    "\n",
    "ind: np.ndarray = np.arange(len(protocols))\n",
    "width: float = 0.35\n",
    "\n",
    "fig: Figure = plt.figure()\n",
    "ax: Axes = fig.add_axes([0,0,1,1])\n",
    "ax.bar(ind, normalCount, width, color=\"r\")\n",
    "ax.bar(ind, attackCount, width, bottom=normalCount, color=\"b\")\n",
    "ax.set_ylabel(\"Count\")\n",
    "ax.set_title(\"Label by protocol\")\n",
    "ax.set_xticks(ind, protocols)\n",
    "ax.legend(labels=[\"Normal\", \"Attack\"])\n",
    "\n",
    "plt.show()"
   ]
  },
  {
   "cell_type": "code",
   "execution_count": null,
   "metadata": {},
   "outputs": [],
   "source": [
    "temp: pd.DataFrame = pd.DataFrame()\n",
    "temp[\"srv_count\"]: pd.Series = data[\"srv_count\"]\n",
    "temp[\"dst_host_srv_count\"]: pd.Series = data[\"dst_host_srv_count\"]\n",
    "\n",
    "temp.plot(kind=\"box\")"
   ]
  },
  {
   "cell_type": "code",
   "execution_count": null,
   "metadata": {},
   "outputs": [],
   "source": [
    "data.info()"
   ]
  },
  {
   "cell_type": "code",
   "execution_count": null,
   "metadata": {},
   "outputs": [],
   "source": [
    "data[\"label\"]: pd.Series = data[\"label\"].apply(lambda x: 1 if x != \"normal\" else 0)\n",
    "plt.figure(figsize=(16, 16))\n",
    "\n",
    "corr: pd.DataFrame = data.select_dtypes(include=[float, int]).corr()\n",
    "\n",
    "mask: np.ndarray = np.triu(np.ones_like(corr, dtype=bool))\n",
    "heatmap: Axes = sns.heatmap(corr, vmin=-1, mask=mask, vmax=1, cmap=\"BrBG\")\n",
    "heatmap.set_title(\"Correlation Heatmap\", fontdict={\"fontsize\":12}, pad=12)"
   ]
  },
  {
   "cell_type": "markdown",
   "metadata": {},
   "source": [
    "# 3. Preprocessing/Modeling Pipeline"
   ]
  },
  {
   "cell_type": "code",
   "execution_count": null,
   "metadata": {},
   "outputs": [],
   "source": [
    "y: np.ndarray = data[\"label\"].values\n",
    "X: pd.DataFrame = data.drop(columns=[\"label\"])"
   ]
  },
  {
   "cell_type": "code",
   "execution_count": null,
   "metadata": {},
   "outputs": [],
   "source": [
    "numerical_features: List[str] = [\n",
    "    \"duration\",\"src_bytes\",\"dst_bytes\",\"land\",\"wrong_fragment\",\"urgent\",\"hot\",\"num_failed_logins\",\"logged_in\",\"lnum_compromised\",\n",
    "    \"lroot_shell\",\"lsu_attempted\",\"lnum_root\",\"lnum_file_creations\",\"lnum_shells\",\"lnum_access_files\",\"lnum_outbound_cmds\",\n",
    "    \"is_host_login\",\"is_guest_login\",\"count\",\"srv_count\",\"serror_rate\",\"srv_serror_rate\",\"rerror_rate\",\"srv_rerror_rate\",\"same_srv_rate\",\n",
    "    \"diff_srv_rate\",\"srv_diff_host_rate\",\"dst_host_count\",\"dst_host_srv_count\",\"dst_host_same_srv_rate\",\"dst_host_diff_srv_rate\",\n",
    "    \"dst_host_same_src_port_rate\",\"dst_host_srv_diff_host_rate\",\"dst_host_serror_rate\",\"dst_host_srv_serror_rate\",\"dst_host_rerror_rate\",\n",
    "    \"dst_host_srv_rerror_rate\"\n",
    "]\n",
    "categorical_features: List[str] = [\"protocol_type\", \"service\", \"flag\"]\n",
    "\n",
    "# drop_features(\"difficulty\")\n",
    "\n",
    "numerical_transformer: Pipeline = Pipeline(\n",
    "    steps=[\n",
    "        (\"scaler\", MinMaxScaler())\n",
    "    ]\n",
    ")\n",
    "\n",
    "categorical_transformer: Pipeline = Pipeline(\n",
    "    steps=[\n",
    "        (\"encoder\", OneHotEncoder(handle_unknown=\"ignore\"))\n",
    "    ]\n",
    ")\n",
    "\n",
    "# Apply numeric transformer (MinMaxScaler) to numeric features and categorical transformer (OneHotEncoder) to categorical features\n",
    "# Drop remaining features, in this case, difficulty column\n",
    "preprocessor: ColumnTransformer = ColumnTransformer(\n",
    "    transformers=[\n",
    "        (\"num\", numerical_transformer, numerical_features),\n",
    "        (\"cat\", categorical_transformer, categorical_features),\n",
    "    ], remainder=\"drop\"\n",
    ")\n",
    "\n",
    "# Apply column preprocessing, reduce feature space with PCA and then apply KNN classifier\n",
    "clf: Pipeline = Pipeline(\n",
    "    steps=[\n",
    "        (\"preprocessor\", preprocessor),\n",
    "        (\"dimreduction\", PCA()),\n",
    "        (\"classifier\", KNeighborsClassifier())\n",
    "    ]\n",
    ")"
   ]
  },
  {
   "cell_type": "code",
   "execution_count": null,
   "metadata": {},
   "outputs": [],
   "source": [
    "clf"
   ]
  },
  {
   "cell_type": "markdown",
   "metadata": {},
   "source": [
    "# 4. Hyperparameter tunning and Validation"
   ]
  },
  {
   "cell_type": "code",
   "execution_count": null,
   "metadata": {},
   "outputs": [],
   "source": [
    "# Define hyperparameter space\n",
    "param_grid: Dict = {\n",
    "    \"dimreduction__n_components\": [8, 16, 32],\n",
    "    \"classifier__n_neighbors\": [4, 8, 16, 32, 64],\n",
    "    \"classifier__weights\": [\"uniform\", \"distance\"],\n",
    "}\n",
    "\n",
    "# Explore all possibilities with Grid Search using Cross-Validation\n",
    "grid: GridSearchCV = GridSearchCV(clf, param_grid=param_grid, cv=5, scoring=\"accuracy\", verbose=2,  n_jobs=5)"
   ]
  },
  {
   "cell_type": "code",
   "execution_count": null,
   "metadata": {},
   "outputs": [],
   "source": [
    "grid.fit(X, y)"
   ]
  },
  {
   "cell_type": "code",
   "execution_count": null,
   "metadata": {},
   "outputs": [],
   "source": [
    "grid.best_params_"
   ]
  },
  {
   "cell_type": "code",
   "execution_count": null,
   "metadata": {},
   "outputs": [],
   "source": [
    "# accuracy in validation (folds averaged)\n",
    "grid.best_score_"
   ]
  },
  {
   "cell_type": "markdown",
   "metadata": {},
   "source": [
    "# 5. Evaluation"
   ]
  },
  {
   "cell_type": "code",
   "execution_count": null,
   "metadata": {},
   "outputs": [],
   "source": [
    "data: pd.DataFrame = pd.read_csv(\"../databases/KDDTest+.txt\", names=colnames, header=None)"
   ]
  },
  {
   "cell_type": "code",
   "execution_count": null,
   "metadata": {},
   "outputs": [],
   "source": [
    "data[\"label\"]: pd.Series = data[\"label\"].apply(lambda x: 1 if x != \"normal\" else 0)\n",
    "y: np.ndarray = data[\"label\"].values\n",
    "X: pd.DataFrame = data.drop(columns=[\"label\"])"
   ]
  },
  {
   "cell_type": "code",
   "execution_count": null,
   "metadata": {},
   "outputs": [],
   "source": [
    "y_pred: np.ndarray = grid.predict(X)"
   ]
  },
  {
   "cell_type": "code",
   "execution_count": null,
   "metadata": {},
   "outputs": [],
   "source": [
    "# final evaluation\n",
    "print(classification_report(y, y_pred, target_names=[\"Normal\", \"Attack\"]))"
   ]
  }
 ],
 "metadata": {
  "interpreter": {
   "hash": "f93468d24a348d9f11df4e7dcc98b1f37bee756987addc9aa6d12763ac8aaf24"
  },
  "kernelspec": {
   "display_name": "Python 3.10.1 ('inacsvenv': venv)",
   "language": "python",
   "name": "python3"
  },
  "language_info": {
   "codemirror_mode": {
    "name": "ipython",
    "version": 3
   },
   "file_extension": ".py",
   "mimetype": "text/x-python",
   "name": "python",
   "nbconvert_exporter": "python",
   "pygments_lexer": "ipython3",
   "version": "3.11.7"
  },
  "orig_nbformat": 4
 },
 "nbformat": 4,
 "nbformat_minor": 2
}
