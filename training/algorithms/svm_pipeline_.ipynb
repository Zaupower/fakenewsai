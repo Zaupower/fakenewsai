{
 "cells": [
  {
   "cell_type": "code",
   "execution_count": 12,
   "id": "b385d282",
   "metadata": {
    "ExecuteTime": {
     "end_time": "2024-05-25T15:07:52.853635500Z",
     "start_time": "2024-05-25T15:07:52.821023Z"
    }
   },
   "outputs": [],
   "source": [
    "import numpy as np\n",
    "import pandas as pd\n",
    "#import matplotlib.pyplot as plt\n",
    "#import seaborn as sns\n",
    "\n",
    "from sklearn.compose import ColumnTransformer\n",
    "from sklearn.pipeline import Pipeline\n",
    "from sklearn.preprocessing import MinMaxScaler, OneHotEncoder, FunctionTransformer\n",
    "from sklearn.feature_extraction.text import TfidfVectorizer\n",
    "from sklearn.decomposition import PCA\n",
    "from sklearn.svm import SVC\n",
    "from sklearn.preprocessing import StandardScaler\n",
    "from sklearn.model_selection import train_test_split, GridSearchCV\n",
    "from sklearn.metrics import classification_report, accuracy_score\n",
    "from sklearn.model_selection import cross_val_score, StratifiedKFold\n",
    "\n",
    "import time\n",
    "from clean_data import clean_text"
   ]
  },
  {
   "cell_type": "markdown",
   "id": "50f983be",
   "metadata": {},
   "source": [
    "## Carregar e Pré-processar o Dataset"
   ]
  },
  {
   "cell_type": "code",
   "execution_count": 13,
   "id": "d674e758",
   "metadata": {
    "ExecuteTime": {
     "end_time": "2024-05-25T15:08:27.123135200Z",
     "start_time": "2024-05-25T15:07:55.717207100Z"
    }
   },
   "outputs": [
    {
     "data": {
      "text/plain": "   id                                              title              author  \\\n0   0  House Dem Aide: We Didn’t Even See Comey’s Let...       Darrell Lucus   \n1   1  FLYNN: Hillary Clinton, Big Woman on Campus - ...     Daniel J. Flynn   \n2   2                  Why the Truth Might Get You Fired  Consortiumnews.com   \n3   3  15 Civilians Killed In Single US Airstrike Hav...     Jessica Purkiss   \n4   4  Iranian woman jailed for fictional unpublished...      Howard Portnoy   \n\n                                                text  label  \\\n0  House Dem Aide: We Didn’t Even See Comey’s Let...      1   \n1  Ever get the feeling your life circles the rou...      0   \n2  Why the Truth Might Get You Fired October 29, ...      1   \n3  Videos 15 Civilians Killed In Single US Airstr...      1   \n4  Print \\nAn Iranian woman has been sentenced to...      1   \n\n                                       combined_text  \\\n0  House Dem Aide: We Didn’t Even See Comey’s Let...   \n1  FLYNN: Hillary Clinton, Big Woman on Campus - ...   \n2  Why the Truth Might Get You Fired Why the Trut...   \n3  15 Civilians Killed In Single US Airstrike Hav...   \n4  Iranian woman jailed for fictional unpublished...   \n\n                                          clean_text  \n0  house dem aide didnt even see comeys letter ja...  \n1  flynn hillary clinton big woman campus breitba...  \n2  truth might get fired truth might get fired oc...  \n3  15 civilian killed single u airstrike identifi...  \n4  iranian woman jailed fictional unpublished sto...  ",
      "text/html": "<div>\n<style scoped>\n    .dataframe tbody tr th:only-of-type {\n        vertical-align: middle;\n    }\n\n    .dataframe tbody tr th {\n        vertical-align: top;\n    }\n\n    .dataframe thead th {\n        text-align: right;\n    }\n</style>\n<table border=\"1\" class=\"dataframe\">\n  <thead>\n    <tr style=\"text-align: right;\">\n      <th></th>\n      <th>id</th>\n      <th>title</th>\n      <th>author</th>\n      <th>text</th>\n      <th>label</th>\n      <th>combined_text</th>\n      <th>clean_text</th>\n    </tr>\n  </thead>\n  <tbody>\n    <tr>\n      <th>0</th>\n      <td>0</td>\n      <td>House Dem Aide: We Didn’t Even See Comey’s Let...</td>\n      <td>Darrell Lucus</td>\n      <td>House Dem Aide: We Didn’t Even See Comey’s Let...</td>\n      <td>1</td>\n      <td>House Dem Aide: We Didn’t Even See Comey’s Let...</td>\n      <td>house dem aide didnt even see comeys letter ja...</td>\n    </tr>\n    <tr>\n      <th>1</th>\n      <td>1</td>\n      <td>FLYNN: Hillary Clinton, Big Woman on Campus - ...</td>\n      <td>Daniel J. Flynn</td>\n      <td>Ever get the feeling your life circles the rou...</td>\n      <td>0</td>\n      <td>FLYNN: Hillary Clinton, Big Woman on Campus - ...</td>\n      <td>flynn hillary clinton big woman campus breitba...</td>\n    </tr>\n    <tr>\n      <th>2</th>\n      <td>2</td>\n      <td>Why the Truth Might Get You Fired</td>\n      <td>Consortiumnews.com</td>\n      <td>Why the Truth Might Get You Fired October 29, ...</td>\n      <td>1</td>\n      <td>Why the Truth Might Get You Fired Why the Trut...</td>\n      <td>truth might get fired truth might get fired oc...</td>\n    </tr>\n    <tr>\n      <th>3</th>\n      <td>3</td>\n      <td>15 Civilians Killed In Single US Airstrike Hav...</td>\n      <td>Jessica Purkiss</td>\n      <td>Videos 15 Civilians Killed In Single US Airstr...</td>\n      <td>1</td>\n      <td>15 Civilians Killed In Single US Airstrike Hav...</td>\n      <td>15 civilian killed single u airstrike identifi...</td>\n    </tr>\n    <tr>\n      <th>4</th>\n      <td>4</td>\n      <td>Iranian woman jailed for fictional unpublished...</td>\n      <td>Howard Portnoy</td>\n      <td>Print \\nAn Iranian woman has been sentenced to...</td>\n      <td>1</td>\n      <td>Iranian woman jailed for fictional unpublished...</td>\n      <td>iranian woman jailed fictional unpublished sto...</td>\n    </tr>\n  </tbody>\n</table>\n</div>"
     },
     "execution_count": 13,
     "metadata": {},
     "output_type": "execute_result"
    }
   ],
   "source": [
    "# Carregar o dataset\n",
    "df = pd.read_csv('C:\\\\Users\\\\MCA01\\\\Documents\\\\fakenewsai\\\\datasets\\\\trainEN.csv')\n",
    "# Combinar colunas de título e texto\n",
    "df['combined_text'] = df['title'] + \" \" + df['text']\n",
    "df['clean_text'] = df['combined_text'].apply(clean_text)\n",
    "\n",
    "# Exibir as primeiras linhas do dataframe\n",
    "df.head()"
   ]
  },
  {
   "cell_type": "markdown",
   "id": "cd4ae09f",
   "metadata": {},
   "source": [
    "## Vetorização dos Textos"
   ]
  },
  {
   "cell_type": "code",
   "execution_count": 14,
   "id": "feac1129",
   "metadata": {
    "ExecuteTime": {
     "end_time": "2024-05-25T15:09:14.536522800Z",
     "start_time": "2024-05-25T15:08:41.468214Z"
    }
   },
   "outputs": [
    {
     "data": {
      "text/plain": "(20166, 5000)"
     },
     "execution_count": 14,
     "metadata": {},
     "output_type": "execute_result"
    }
   ],
   "source": [
    "# Vetorizar o dataset\n",
    "vectorizer = TfidfVectorizer(max_features=5000, min_df=3, max_df=0.7, ngram_range=(1, 2))\n",
    "X = vectorizer.fit_transform(df['clean_text'])\n",
    "y = df['label']\n",
    "\n",
    "# Exibir a forma da matriz resultante\n",
    "X.shape"
   ]
  },
  {
   "cell_type": "markdown",
   "id": "29b3539d",
   "metadata": {},
   "source": [
    "## Divisão dos Dados em Treino e Teste"
   ]
  },
  {
   "cell_type": "code",
   "execution_count": 15,
   "id": "55b347f4",
   "metadata": {
    "ExecuteTime": {
     "end_time": "2024-05-25T15:09:23.217476300Z",
     "start_time": "2024-05-25T15:09:23.148142600Z"
    }
   },
   "outputs": [
    {
     "data": {
      "text/plain": "((14116, 5000), (6050, 5000))"
     },
     "execution_count": 15,
     "metadata": {},
     "output_type": "execute_result"
    }
   ],
   "source": [
    "# Dividir o dataset em treino e teste\n",
    "X_train, X_test, y_train, y_test = train_test_split(X, y, test_size=0.3, random_state=42)\n",
    "\n",
    "# Exibir a forma dos conjuntos de treino e teste\n",
    "X_train.shape, X_test.shape"
   ]
  },
  {
   "cell_type": "markdown",
   "id": "c7f048b3",
   "metadata": {},
   "source": [
    "## Definição e Treinamento da Pipeline"
   ]
  },
  {
   "cell_type": "code",
   "execution_count": 16,
   "id": "82c61ad7",
   "metadata": {
    "ExecuteTime": {
     "end_time": "2024-05-25T15:16:05.776003100Z",
     "start_time": "2024-05-25T15:09:30.787319900Z"
    }
   },
   "outputs": [
    {
     "name": "stdout",
     "output_type": "stream",
     "text": [
      "Tempo total de execução: 394.97 segundos\n"
     ]
    }
   ],
   "source": [
    "# Definição da pipeline\n",
    "pipeline = Pipeline([\n",
    "    ('tfidf', TfidfVectorizer(max_features=5000, min_df=3, max_df=0.7, ngram_range=(1, 2))),\n",
    "    ('scaler', StandardScaler(with_mean=False)),\n",
    "    ('classifier', SVC(kernel='linear'))\n",
    "])\n",
    "\n",
    "# Treino do modelo\n",
    "start_time = time.time()\n",
    "pipeline.fit(df['clean_text'], df['label'])\n",
    "print(f'Tempo total de execução: {time.time() - start_time:.2f} segundos')"
   ]
  },
  {
   "cell_type": "markdown",
   "id": "6ae8e479",
   "metadata": {},
   "source": [
    "## Avaliação do Modelo"
   ]
  },
  {
   "cell_type": "code",
   "execution_count": 17,
   "id": "fa9a5a14",
   "metadata": {
    "ExecuteTime": {
     "end_time": "2024-05-25T15:41:58.166071700Z",
     "start_time": "2024-05-25T15:24:04.145726Z"
    }
   },
   "outputs": [
    {
     "name": "stdout",
     "output_type": "stream",
     "text": [
      "Precisao do modelo: 1.00\n",
      "              precision    recall  f1-score   support\n",
      "\n",
      "           0       1.00      1.00      1.00     10384\n",
      "           1       1.00      1.00      1.00      9782\n",
      "\n",
      "    accuracy                           1.00     20166\n",
      "   macro avg       1.00      1.00      1.00     20166\n",
      "weighted avg       1.00      1.00      1.00     20166\n",
      "Precisão média do cross-validation: 0.94\n",
      "Desvio padrão do cross-validation: 0.00\n"
     ]
    }
   ],
   "source": [
    "# Previsão e avaliação\n",
    "y_pred = pipeline.predict(df['clean_text'])\n",
    "accuracy = accuracy_score(df['label'], y_pred)\n",
    "print(f'Precisao do modelo: {accuracy:.2f}')\n",
    "\n",
    "# Relatório de classificação\n",
    "print(classification_report(df['label'], y_pred))\n",
    "\n",
    "# Definição do k-fold\n",
    "cv = StratifiedKFold(n_splits=5, shuffle=True, random_state=42)\n",
    "\n",
    "# Executar cross-validation\n",
    "cross_val_scores = cross_val_score(pipeline, df['clean_text'], df['label'], cv=cv, scoring='accuracy')\n",
    "print(f'Precisão média do cross-validation: {cross_val_scores.mean():.2f}')\n",
    "print(f'Desvio padrão do cross-validation: {cross_val_scores.std():.2f}')\n"
   ]
  },
  {
   "cell_type": "markdown",
   "source": [
    "## Grid Search"
   ],
   "metadata": {
    "collapsed": false
   },
   "id": "aebe54ac19d812c7"
  },
  {
   "cell_type": "code",
   "execution_count": null,
   "id": "075474b8",
   "metadata": {
    "is_executing": true,
    "ExecuteTime": {
     "start_time": "2024-05-25T15:41:58.186805100Z"
    }
   },
   "outputs": [],
   "source": [
    "# Define the pipeline\n",
    "pipeline = Pipeline([\n",
    "    ('tfidf', TfidfVectorizer(max_features=5000, min_df=3, max_df=0.7, ngram_range=(1, 2))),\n",
    "    ('scaler', StandardScaler(with_mean=False)),\n",
    "    ('classifier', SVC())\n",
    "])\n",
    "\n",
    "# Define the parameter grid for GridSearchCV\n",
    "param_grid = {\n",
    "    'tfidf__max_features': [3000, 5000, 7000],\n",
    "    'tfidf__ngram_range': [(1, 1), (1, 2)],\n",
    "    'classifier__kernel': ['linear', 'rbf'],\n",
    "    'classifier__C': [0.1, 1, 10]\n",
    "}\n",
    "\n",
    "# Initialize GridSearchCV\n",
    "grid_search = GridSearchCV(pipeline, param_grid, cv=5, scoring='accuracy', n_jobs=-1)\n",
    "\n",
    "# Fit GridSearchCV\n",
    "grid_search.fit(df['clean_text'], df['label'])\n",
    "\n",
    "# Get the best parameters and the best score\n",
    "best_params = grid_search.best_params_\n",
    "best_score = grid_search.best_score_\n",
    "\n",
    "print(f\"Best parameters: {best_params}\")\n",
    "print(f\"Best cross-validation accuracy: {best_score:.2f}\")\n",
    "\n",
    "# Predict using the best estimator\n",
    "y_pred = grid_search.best_estimator_.predict(df['clean_text'])\n",
    "accuracy = accuracy_score(df['label'], y_pred)\n",
    "print(f\"Accuracy on the full dataset: {accuracy:.2f}\")\n",
    "\n",
    "# Classification report\n",
    "print(classification_report(df['label'], y_pred))\n"
   ]
  },
  {
   "cell_type": "code",
   "execution_count": null,
   "outputs": [],
   "source": [],
   "metadata": {
    "collapsed": false
   },
   "id": "38811224996c9700"
  }
 ],
 "metadata": {
  "kernelspec": {
   "display_name": "base",
   "language": "python",
   "name": "python3"
  },
  "language_info": {
   "codemirror_mode": {
    "name": "ipython",
    "version": 3
   },
   "file_extension": ".py",
   "mimetype": "text/x-python",
   "name": "python",
   "nbconvert_exporter": "python",
   "pygments_lexer": "ipython3",
   "version": "3.11.7"
  }
 },
 "nbformat": 4,
 "nbformat_minor": 5
}
